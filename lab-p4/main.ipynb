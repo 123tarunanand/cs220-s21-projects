{
 "cells": [
  {
   "cell_type": "code",
   "execution_count": 8,
   "metadata": {},
   "outputs": [
    {
     "name": "stdout",
     "output_type": "stream",
     "text": [
      "Kanto\n"
     ]
    }
   ],
   "source": [
    "import project\n",
    "\n",
    "if project.get_region('Pikachu') == 'Kanto':\n",
    "    print ('Kanto')\n",
    "else:\n",
    "    print('Not Kanto')"
   ]
  },
  {
   "cell_type": "code",
   "execution_count": 3,
   "metadata": {},
   "outputs": [
    {
     "name": "stdout",
     "output_type": "stream",
     "text": [
      "Snorlax\n"
     ]
    }
   ],
   "source": [
    "if project.get_hp('Snorlax') >= project.get_hp('Heracross'):\n",
    "    print('Snorlax')\n",
    "else:\n",
    "    print('Heracross')"
   ]
  },
  {
   "cell_type": "code",
   "execution_count": 6,
   "metadata": {},
   "outputs": [],
   "source": [
    "def get_stat_total(pkmn):\n",
    "    return project.get_hp(pkmn) + \\\n",
    "           project.get_attack(pkmn) + \\\n",
    "           project.get_sp_atk(pkmn) + \\\n",
    "           project.get_sp_def(pkmn) + \\\n",
    "           project.get_speed(pkmn) + \\\n",
    "           project.get_defense(pkmn)"
   ]
  },
  {
   "cell_type": "code",
   "execution_count": 7,
   "metadata": {},
   "outputs": [
    {
     "data": {
      "text/plain": [
       "500"
      ]
     },
     "execution_count": 7,
     "metadata": {},
     "output_type": "execute_result"
    }
   ],
   "source": [
    "get_stat_total('Heracross')"
   ]
  },
  {
   "cell_type": "code",
   "execution_count": 9,
   "metadata": {},
   "outputs": [],
   "source": [
    "def get_num_types(pkmn):\n",
    "    if project.get_type1(pkmn) == 'None':\n",
    "        return 0\n",
    "    elif project.get_type2(pkmn) == 'None':\n",
    "        return 1\n",
    "    else:\n",
    "        return 2"
   ]
  },
  {
   "cell_type": "code",
   "execution_count": 11,
   "metadata": {},
   "outputs": [
    {
     "data": {
      "text/plain": [
       "1"
      ]
     },
     "execution_count": 11,
     "metadata": {},
     "output_type": "execute_result"
    }
   ],
   "source": [
    "get_num_types(\"Pikachu\")"
   ]
  },
  {
   "cell_type": "code",
   "execution_count": 12,
   "metadata": {},
   "outputs": [],
   "source": [
    "def same_types(pkmn1, pkmn2):\n",
    "    if project.get_type1(pkmn1) == project.get_type1(pkmn2):\n",
    "        if project.get_type2(pkmn1) == project.get_type2(pkmn2):\n",
    "            return True\n",
    "    return False"
   ]
  },
  {
   "cell_type": "code",
   "execution_count": 13,
   "metadata": {},
   "outputs": [
    {
     "data": {
      "text/plain": [
       "False"
      ]
     },
     "execution_count": 13,
     "metadata": {},
     "output_type": "execute_result"
    }
   ],
   "source": [
    "same_types('Dragonite', 'Noivern')"
   ]
  },
  {
   "cell_type": "code",
   "execution_count": 14,
   "metadata": {},
   "outputs": [],
   "source": [
    "def same_types(pkmn1, pkmn2):\n",
    "    if project.get_type1(pkmn1) == project.get_type1(pkmn2):\n",
    "        if project.get_type2(pkmn1) == project.get_type2(pkmn2):\n",
    "            return True\n",
    "\n",
    "    if project.get_type1(pkmn1) == project.get_type2(pkmn2):\n",
    "        if project.get_type2(pkmn1) == project.get_type1(pkmn2):\n",
    "            return True\n",
    "            \n",
    "    return False"
   ]
  },
  {
   "cell_type": "code",
   "execution_count": 15,
   "metadata": {},
   "outputs": [
    {
     "data": {
      "text/plain": [
       "True"
      ]
     },
     "execution_count": 15,
     "metadata": {},
     "output_type": "execute_result"
    }
   ],
   "source": [
    "same_types('Dragonite', 'Noivern')"
   ]
  }
 ],
 "metadata": {
  "kernelspec": {
   "display_name": "Python 3",
   "language": "python",
   "name": "python3"
  },
  "language_info": {
   "codemirror_mode": {
    "name": "ipython",
    "version": 3
   },
   "file_extension": ".py",
   "mimetype": "text/x-python",
   "name": "python",
   "nbconvert_exporter": "python",
   "pygments_lexer": "ipython3",
   "version": "3.7.3"
  }
 },
 "nbformat": 4,
 "nbformat_minor": 2
}
